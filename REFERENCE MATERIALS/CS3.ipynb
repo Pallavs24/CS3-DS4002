{
 "cells": [
  {
   "cell_type": "code",
   "execution_count": null,
   "metadata": {},
   "outputs": [],
   "source": [
    "###instructions on what code to fill in are commented\n",
    "\n",
    "import pandas as pd\n",
    "import numpy as np\n",
    "import ast\n",
    "import re\n",
    "from sklearn.model_selection import train_test_split\n",
    "from sklearn.ensemble import RandomForestClassifier\n",
    "from sklearn.metrics import accuracy_score, roc_auc_score, classification_report\n",
    "\n",
    "#CoolTone = pd.read_csv('<insert file path>')\n",
    "#WarmTone = pd.read_csv('<insert file path>') \n",
    "\n",
    "#CoolTone[\"Label\"] = <insert numerical label. hint: see rest of code>\n",
    "#WarmTone[\"Label\"] = <insert numerical label. hint: see rest of code> \n",
    "\n",
    "combined_data = pd.concat([CoolTone, WarmTone], ignore_index=True)\n",
    " \n",
    "def extract_floats_from_string(val):\n",
    "    if isinstance(val, str):\n",
    "        pattern = r\"np\\.float64\\(([-+]?\\d*\\.\\d+|\\d+)\\)\"\n",
    "        matches = re.findall(pattern, val)\n",
    "        if len(matches) == 3: \n",
    "            return [float(match) for match in matches]\n",
    "    return np.nan\n",
    "\n",
    "combined_data[\"YUV_values\"] = combined_data[\"YUV_values\"].apply(extract_floats_from_string) \n",
    "\n",
    "combined_data = combined_data.dropna(subset=[\"YUV_values\"]) \n",
    "\n",
    "X = np.array(combined_data[\"YUV_values\"].tolist())\n",
    "y = combined_data[\"Label\"]                       \n",
    "\n",
    "print(f\"Feature matrix shape: {X.shape}\")\n",
    "print(f\"Label shape: {y.shape}\")\n",
    "\n",
    "#X_train, X_test, y_train, y_test = train_test_split(X, y, test_size=<number>, random_state=<number>, stratify=y)\n",
    "\n",
    "clf = RandomForestClassifier(random_state=42)\n",
    "clf.fit(X_train, y_train)\n",
    "\n",
    "y_pred = clf.predict(X_test)\n",
    "y_proba = clf.predict_proba(X_test)[:, 1]\n",
    "\n",
    "accuracy = accuracy_score(y_test, y_pred)\n",
    "auc = roc_auc_score(y_test, y_proba) \n",
    "\n",
    "#print accuracy, auc, and a classification report\n"
   ]
  }
 ],
 "metadata": {
  "language_info": {
   "name": "python"
  }
 },
 "nbformat": 4,
 "nbformat_minor": 2
}
